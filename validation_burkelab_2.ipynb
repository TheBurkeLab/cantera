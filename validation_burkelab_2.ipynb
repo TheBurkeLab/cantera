{
 "cells": [
  {
   "cell_type": "code",
   "execution_count": 1,
   "metadata": {},
   "outputs": [
    {
     "name": "stdout",
     "output_type": "stream",
     "text": [
      "0\n"
     ]
    }
   ],
   "source": [
    "#Validation script\n",
    "import sys, os\n",
    "print(\"0\")\n",
    "sys.path.append(\"C:/Users/pjsin/Documents/cantera/build/python\")"
   ]
  },
  {
   "cell_type": "code",
   "execution_count": 2,
   "metadata": {},
   "outputs": [
    {
     "name": "stdout",
     "output_type": "stream",
     "text": [
      "1\n",
      "2\n"
     ]
    },
    {
     "ename": "CanteraError",
     "evalue": "\n*******************************************************************************\nCanteraError thrown by addReactions:\n\n*******************************************************************************\nNotImplementedError thrown by ReactionData::update:\nReactionData type does not use extra scalar argument.\n*******************************************************************************\n*******************************************************************************\n",
     "output_type": "error",
     "traceback": [
      "\u001b[1;31m---------------------------------------------------------------------------\u001b[0m",
      "\u001b[1;31mCanteraError\u001b[0m                              Traceback (most recent call last)",
      "\u001b[1;32m~\\AppData\\Local\\Temp\\ipykernel_43848\\3363087461.py\u001b[0m in \u001b[0;36m<module>\u001b[1;34m\u001b[0m\n\u001b[0;32m      2\u001b[0m \u001b[1;32mimport\u001b[0m \u001b[0mcantera\u001b[0m \u001b[1;32mas\u001b[0m \u001b[0mbklabct\u001b[0m\u001b[1;33m\u001b[0m\u001b[1;33m\u001b[0m\u001b[0m\n\u001b[0;32m      3\u001b[0m \u001b[0mprint\u001b[0m\u001b[1;33m(\u001b[0m\u001b[1;34m\"2\"\u001b[0m\u001b[1;33m)\u001b[0m\u001b[1;33m\u001b[0m\u001b[1;33m\u001b[0m\u001b[0m\n\u001b[1;32m----> 4\u001b[1;33m \u001b[0mgas\u001b[0m \u001b[1;33m=\u001b[0m \u001b[0mbklabct\u001b[0m\u001b[1;33m.\u001b[0m\u001b[0mSolution\u001b[0m\u001b[1;33m(\u001b[0m\u001b[1;34m'C:\\\\Users\\\\pjsin\\\\Documents\\\\cantera\\\\test\\\\data\\\\kineticsfromscratch_LMRtest.yaml'\u001b[0m\u001b[1;33m)\u001b[0m\u001b[1;33m\u001b[0m\u001b[1;33m\u001b[0m\u001b[0m\n\u001b[0m\u001b[0;32m      5\u001b[0m \u001b[0mprint\u001b[0m\u001b[1;33m(\u001b[0m\u001b[1;34m\"3\"\u001b[0m\u001b[1;33m)\u001b[0m\u001b[1;33m\u001b[0m\u001b[1;33m\u001b[0m\u001b[0m\n\u001b[0;32m      6\u001b[0m \u001b[0mprint\u001b[0m\u001b[1;33m(\u001b[0m\u001b[0mgas\u001b[0m\u001b[1;33m.\u001b[0m\u001b[0mspecies_names\u001b[0m\u001b[1;33m)\u001b[0m\u001b[1;33m\u001b[0m\u001b[1;33m\u001b[0m\u001b[0m\n",
      "\u001b[1;32mc:\\Users\\pjsin\\Documents\\cantera\\build\\python\\cantera\\solutionbase.pyx\u001b[0m in \u001b[0;36mcantera.solutionbase._SolutionBase.__cinit__\u001b[1;34m()\u001b[0m\n\u001b[0;32m     35\u001b[0m         \u001b[1;32mif\u001b[0m \u001b[0morigin\u001b[0m \u001b[1;32mor\u001b[0m \u001b[0minfile\u001b[0m \u001b[1;32mor\u001b[0m \u001b[0myaml\u001b[0m \u001b[1;32mor\u001b[0m \u001b[1;33m(\u001b[0m\u001b[0mthermo\u001b[0m \u001b[1;32mand\u001b[0m \u001b[0mspecies\u001b[0m\u001b[1;33m)\u001b[0m\u001b[1;33m:\u001b[0m\u001b[1;33m\u001b[0m\u001b[1;33m\u001b[0m\u001b[0m\n\u001b[0;32m     36\u001b[0m \u001b[1;33m\u001b[0m\u001b[0m\n\u001b[1;32m---> 37\u001b[1;33m             self._cinit(infile=infile, name=name, adjacent=adjacent, origin=origin,\n\u001b[0m\u001b[0;32m     38\u001b[0m                         \u001b[0myaml\u001b[0m\u001b[1;33m=\u001b[0m\u001b[0myaml\u001b[0m\u001b[1;33m,\u001b[0m \u001b[0mthermo\u001b[0m\u001b[1;33m=\u001b[0m\u001b[0mthermo\u001b[0m\u001b[1;33m,\u001b[0m \u001b[0mspecies\u001b[0m\u001b[1;33m=\u001b[0m\u001b[0mspecies\u001b[0m\u001b[1;33m,\u001b[0m \u001b[0mkinetics\u001b[0m\u001b[1;33m=\u001b[0m\u001b[0mkinetics\u001b[0m\u001b[1;33m,\u001b[0m\u001b[1;33m\u001b[0m\u001b[1;33m\u001b[0m\u001b[0m\n\u001b[0;32m     39\u001b[0m                         reactions=reactions, **kwargs)\n",
      "\u001b[1;32mc:\\Users\\pjsin\\Documents\\cantera\\build\\python\\cantera\\solutionbase.pyx\u001b[0m in \u001b[0;36mcantera.solutionbase._SolutionBase._cinit\u001b[1;34m()\u001b[0m\n\u001b[0;32m     73\u001b[0m         \u001b[1;32mif\u001b[0m \u001b[0minfile\u001b[0m \u001b[1;32mor\u001b[0m \u001b[0myaml\u001b[0m\u001b[1;33m:\u001b[0m\u001b[1;33m\u001b[0m\u001b[1;33m\u001b[0m\u001b[0m\n\u001b[0;32m     74\u001b[0m             \u001b[1;31m# Parse YAML input\u001b[0m\u001b[1;33m\u001b[0m\u001b[1;33m\u001b[0m\u001b[1;33m\u001b[0m\u001b[0m\n\u001b[1;32m---> 75\u001b[1;33m             \u001b[0mself\u001b[0m\u001b[1;33m.\u001b[0m\u001b[0m_init_yaml\u001b[0m\u001b[1;33m(\u001b[0m\u001b[0minfile\u001b[0m\u001b[1;33m,\u001b[0m \u001b[0mname\u001b[0m\u001b[1;33m,\u001b[0m \u001b[0madjacent\u001b[0m\u001b[1;33m,\u001b[0m \u001b[0myaml\u001b[0m\u001b[1;33m,\u001b[0m \u001b[0mtransport\u001b[0m\u001b[1;33m)\u001b[0m\u001b[1;33m\u001b[0m\u001b[1;33m\u001b[0m\u001b[0m\n\u001b[0m\u001b[0;32m     76\u001b[0m         \u001b[1;32melse\u001b[0m\u001b[1;33m:\u001b[0m\u001b[1;33m\u001b[0m\u001b[1;33m\u001b[0m\u001b[0m\n\u001b[0;32m     77\u001b[0m             \u001b[1;31m# Assign base and set managers\u001b[0m\u001b[1;33m\u001b[0m\u001b[1;33m\u001b[0m\u001b[1;33m\u001b[0m\u001b[0m\n",
      "\u001b[1;32mc:\\Users\\pjsin\\Documents\\cantera\\build\\python\\cantera\\solutionbase.pyx\u001b[0m in \u001b[0;36mcantera.solutionbase._SolutionBase._init_yaml\u001b[1;34m()\u001b[0m\n\u001b[0;32m    158\u001b[0m                 \u001b[0msoln\u001b[0m \u001b[1;33m=\u001b[0m \u001b[0mnewInterface\u001b[0m\u001b[1;33m(\u001b[0m\u001b[0mstringify\u001b[0m\u001b[1;33m(\u001b[0m\u001b[0minfile\u001b[0m\u001b[1;33m)\u001b[0m\u001b[1;33m,\u001b[0m \u001b[0mstringify\u001b[0m\u001b[1;33m(\u001b[0m\u001b[0mname\u001b[0m\u001b[1;33m)\u001b[0m\u001b[1;33m,\u001b[0m \u001b[0madjacent_names\u001b[0m\u001b[1;33m)\u001b[0m\u001b[1;33m\u001b[0m\u001b[1;33m\u001b[0m\u001b[0m\n\u001b[0;32m    159\u001b[0m             \u001b[1;32melse\u001b[0m\u001b[1;33m:\u001b[0m\u001b[1;33m\u001b[0m\u001b[1;33m\u001b[0m\u001b[0m\n\u001b[1;32m--> 160\u001b[1;33m                 soln = newSolution(\n\u001b[0m\u001b[0;32m    161\u001b[0m                     stringify(infile), stringify(name), cxx_transport, adjacent_solns)\n\u001b[0;32m    162\u001b[0m         \u001b[1;32melif\u001b[0m \u001b[0msource\u001b[0m\u001b[1;33m:\u001b[0m\u001b[1;33m\u001b[0m\u001b[1;33m\u001b[0m\u001b[0m\n",
      "\u001b[1;31mCanteraError\u001b[0m: \n*******************************************************************************\nCanteraError thrown by addReactions:\n\n*******************************************************************************\nNotImplementedError thrown by ReactionData::update:\nReactionData type does not use extra scalar argument.\n*******************************************************************************\n*******************************************************************************\n"
     ]
    }
   ],
   "source": [
    "print(\"1\")\n",
    "import cantera as bklabct\n",
    "print(\"2\")\n",
    "gas = bklabct.Solution('C:\\\\Users\\\\pjsin\\\\Documents\\\\cantera\\\\test\\\\data\\\\kineticsfromscratch_LMRtest.yaml')\n",
    "print(\"3\")\n",
    "print(gas.species_names)\n",
    "print(\"4\")"
   ]
  }
 ],
 "metadata": {
  "kernelspec": {
   "display_name": "ctdev",
   "language": "python",
   "name": "python3"
  },
  "language_info": {
   "codemirror_mode": {
    "name": "ipython",
    "version": 3
   },
   "file_extension": ".py",
   "mimetype": "text/x-python",
   "name": "python",
   "nbconvert_exporter": "python",
   "pygments_lexer": "ipython3",
   "version": "3.8.16"
  }
 },
 "nbformat": 4,
 "nbformat_minor": 2
}
